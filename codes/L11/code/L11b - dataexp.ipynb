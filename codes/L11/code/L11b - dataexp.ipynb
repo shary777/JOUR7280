{
 "cells": [
  {
   "cell_type": "markdown",
   "metadata": {},
   "source": [
    "# JOUR7280/COMM7780 Big Data Analytics for Media and Communication\n",
    "# Tutorial: Data exploration"
   ]
  },
  {
   "cell_type": "code",
   "execution_count": null,
   "metadata": {},
   "outputs": [],
   "source": [
    "#important command to display IMMEDIATELY your plots\n",
    "%matplotlib inline"
   ]
  },
  {
   "cell_type": "markdown",
   "metadata": {},
   "source": [
    "# Importing and knowing your data \n",
    "- in this notebook, we will analyze a ready-made dataset by Gapminder https://www.gapminder.org/\n",
    "- more data can be found here: https://www.gapminder.org/data/"
   ]
  },
  {
   "cell_type": "code",
   "execution_count": null,
   "metadata": {},
   "outputs": [],
   "source": [
    "import pandas as pd \n",
    "import numpy as np\n",
    "from pandas import *"
   ]
  },
  {
   "cell_type": "code",
   "execution_count": null,
   "metadata": {},
   "outputs": [],
   "source": [
    "# a common way to import the \"ready-made\" or harvested data, normally in csv format \n",
    "# the data file used in this tutorial is from this tutorial: \"https://storage.googleapis.com/learn_pd_like_tidyverse/gapminder.csv\"\n",
    "# special thanks for the original author for compiling and sharing this dataset \n",
    "\n",
    "gapminder = pd.read_csv('../data/' + 'gapminder.csv')"
   ]
  },
  {
   "cell_type": "code",
   "execution_count": null,
   "metadata": {},
   "outputs": [],
   "source": [
    "# checkin the type and take a glance at the head \n",
    "print(type(gapminder))\n",
    "gapminder.head(5)"
   ]
  },
  {
   "cell_type": "markdown",
   "metadata": {},
   "source": [
    "## Examining the attributes of the Data Frame (standard procedures)\n",
    "\n",
    "- ```df.shape``` \n",
    "- ```df.columns``` \n",
    "- ```df.index``` (check the index of the \"rows\") \n",
    "- ```df.info()```\n",
    "- ```df.describe()``` (descriptive statistics for numerical variables) "
   ]
  },
  {
   "cell_type": "code",
   "execution_count": null,
   "metadata": {},
   "outputs": [],
   "source": [
    "gapminder.shape \n",
    "# (the number of cases/observations, the number of variables)"
   ]
  },
  {
   "cell_type": "code",
   "execution_count": null,
   "metadata": {},
   "outputs": [],
   "source": [
    "gapminder.columns"
   ]
  },
  {
   "cell_type": "code",
   "execution_count": null,
   "metadata": {},
   "outputs": [],
   "source": [
    "gapminder.index"
   ]
  },
  {
   "cell_type": "code",
   "execution_count": null,
   "metadata": {},
   "outputs": [],
   "source": [
    "gapminder.info()"
   ]
  },
  {
   "cell_type": "code",
   "execution_count": null,
   "metadata": {},
   "outputs": [],
   "source": [
    "gapminder.describe() \n",
    "# please add the () after it"
   ]
  },
  {
   "cell_type": "markdown",
   "metadata": {},
   "source": [
    "## Case selection "
   ]
  },
  {
   "cell_type": "markdown",
   "metadata": {},
   "source": [
    "### Selecting cases (rows/observations) using Boolean indexing"
   ]
  },
  {
   "cell_type": "code",
   "execution_count": null,
   "metadata": {},
   "outputs": [],
   "source": [
    "gapminder[gapminder['country']==\"China\"] "
   ]
  },
  {
   "cell_type": "code",
   "execution_count": null,
   "metadata": {},
   "outputs": [],
   "source": [
    "gapminder[(gapminder['year'] == 2007) & (gapminder['continent'] == 'Asia')]"
   ]
  },
  {
   "cell_type": "markdown",
   "metadata": {},
   "source": [
    "### using a variable list to select multiple variables "
   ]
  },
  {
   "cell_type": "code",
   "execution_count": null,
   "metadata": {},
   "outputs": [],
   "source": [
    "gapminder[['country', 'continent']].head(30)"
   ]
  },
  {
   "cell_type": "markdown",
   "metadata": {},
   "source": [
    "## Basic statistics "
   ]
  },
  {
   "cell_type": "code",
   "execution_count": null,
   "metadata": {},
   "outputs": [],
   "source": [
    "# A quick way to get statistics\n",
    "gapminder.describe()"
   ]
  },
  {
   "cell_type": "code",
   "execution_count": null,
   "metadata": {},
   "outputs": [],
   "source": [
    "gapminder.describe().loc[['mean','std'],['lifeExp','gdpPercap']]"
   ]
  },
  {
   "cell_type": "code",
   "execution_count": null,
   "metadata": {},
   "outputs": [],
   "source": [
    "gapminder[gapminder['continent']=='Asia'].describe().loc[['mean','std'],['lifeExp','gdpPercap']]"
   ]
  },
  {
   "cell_type": "code",
   "execution_count": null,
   "metadata": {},
   "outputs": [],
   "source": [
    "gapminder[gapminder['continent']=='Africa'].describe().loc[['mean','std'],['lifeExp','gdpPercap']]"
   ]
  },
  {
   "cell_type": "code",
   "execution_count": null,
   "metadata": {},
   "outputs": [],
   "source": [
    "lifeExp, gdpPercap = gapminder[gapminder['country'] == 'China'][['lifeExp', 'gdpPercap']].mean()\n",
    "print('Average life expectation in China is {} and GDP per capita is {}'.format(lifeExp, gdpPercap))"
   ]
  },
  {
   "cell_type": "markdown",
   "metadata": {},
   "source": [
    "## Pivot table\n",
    "- A pivot table is a table of statistics that summarize the data of a more extensive table (such as from a database, spreadsheet, or business intelligence program). This summary might include sums, averages, or other statistics, which the pivot table groups together in a meaningful way (Wiki) \n",
    "- for more on Pivot table in Pandas, please check this tutorial carefully: https://pandas.pydata.org/pandas-docs/stable/reference/api/pandas.pivot_table.html"
   ]
  },
  {
   "cell_type": "markdown",
   "metadata": {},
   "source": [
    "`values`: \"the dependent variable that you want to observe\"  \n",
    "`index`: the \"row\" - as an aggregated level variable  \n",
    "`columns`: the \"column\""
   ]
  },
  {
   "cell_type": "code",
   "execution_count": null,
   "metadata": {},
   "outputs": [],
   "source": [
    "table1 = pivot_table(gapminder, values='lifeExp', index=['continent'], columns=['year'], aggfunc=np.mean)\n",
    "table1.head()"
   ]
  },
  {
   "cell_type": "code",
   "execution_count": null,
   "metadata": {},
   "outputs": [],
   "source": [
    "# more variables in the index \n",
    "# what is the difference between table 2a and table 2b? \n",
    "table2a = pivot_table(gapminder, values='lifeExp', index=['country', 'continent'], columns=['year'], aggfunc={'lifeExp': np.mean}) \n",
    "table2a.head() "
   ]
  },
  {
   "cell_type": "code",
   "execution_count": null,
   "metadata": {},
   "outputs": [],
   "source": [
    "table2b = pivot_table(gapminder, values='lifeExp', index=['continent', 'country'], columns=['year'], aggfunc={'lifeExp': np.mean})\n",
    "table2b.head()"
   ]
  },
  {
   "cell_type": "markdown",
   "metadata": {},
   "source": [
    "# Data exploration and visualization \n",
    "## Univariate and bivariate data visualization\n",
    "- for more data visualization with Python, please see this **must read** tutorial: https://pandas.pydata.org/pandas-docs/stable/user_guide/visualization.html"
   ]
  },
  {
   "cell_type": "code",
   "execution_count": null,
   "metadata": {},
   "outputs": [],
   "source": [
    "import matplotlib.pyplot as plt\n",
    "import seaborn as sns"
   ]
  },
  {
   "cell_type": "markdown",
   "metadata": {},
   "source": [
    "### Showing the trend: line chart\n",
    "Plot a line chart using `df.plot()`."
   ]
  },
  {
   "cell_type": "code",
   "execution_count": null,
   "metadata": {},
   "outputs": [],
   "source": [
    "# selecting the country and plot one single ilne \n",
    "gapminder_China = gapminder[gapminder['country'] == 'China']\n",
    "gapminder_China[['year', 'lifeExp']].plot(kind = 'line', x = 'year', y = 'lifeExp', title = 'Life expetancy across the years in China', legend = False)\n",
    "plt.show()"
   ]
  },
  {
   "cell_type": "markdown",
   "metadata": {},
   "source": [
    "Next, we plot trend of life expectation of countries and areas 'China', 'Singapore', 'Korea, Rep.', 'Taiwan' and 'Hong Kong, China'.\n",
    "\n",
    "First, select rows of these 5 countries."
   ]
  },
  {
   "cell_type": "code",
   "execution_count": null,
   "metadata": {},
   "outputs": [],
   "source": [
    "gapminder_5asia = gapminder.loc[gapminder['country'].isin(['China', 'Singapore', 'Korea, Rep.', 'Taiwan', 'Hong Kong, China'])]"
   ]
  },
  {
   "cell_type": "markdown",
   "metadata": {},
   "source": [
    "Then, create a pivot_table. By default, `aggfunc='mean'`. "
   ]
  },
  {
   "cell_type": "code",
   "execution_count": null,
   "metadata": {},
   "outputs": [],
   "source": [
    "gapminder_5asia_pivot = gapminder_5asia.pivot_table(values = 'lifeExp', columns = 'country', index = 'year')\n",
    "gapminder_5asia_pivot.head()"
   ]
  },
  {
   "cell_type": "markdown",
   "metadata": {},
   "source": [
    "`plot()` method generates a line for each column."
   ]
  },
  {
   "cell_type": "code",
   "execution_count": null,
   "metadata": {},
   "outputs": [],
   "source": [
    "gapminder_5asia_pivot.plot(title = 'Life expectancy in five Asian societies')\n",
    "plt.show()"
   ]
  },
  {
   "cell_type": "markdown",
   "metadata": {},
   "source": [
    "### Showing the distribution: histogram "
   ]
  },
  {
   "cell_type": "markdown",
   "metadata": {},
   "source": [
    "`hist()` method creates one histogram per column."
   ]
  },
  {
   "cell_type": "markdown",
   "metadata": {},
   "source": [
    "`bins`: Number of histogram bins to be used."
   ]
  },
  {
   "cell_type": "code",
   "execution_count": null,
   "metadata": {
    "scrolled": true
   },
   "outputs": [],
   "source": [
    "gapminder_2007 = gapminder[gapminder['year'] == 2007]\n",
    "gapminder_2007[['pop', 'gdpPercap', 'lifeExp']].hist(bins = 20)\n",
    "plt.show()"
   ]
  },
  {
   "cell_type": "markdown",
   "metadata": {},
   "source": [
    "Set transparency to 50% by passing in `alpha` paramemter"
   ]
  },
  {
   "cell_type": "code",
   "execution_count": null,
   "metadata": {},
   "outputs": [],
   "source": [
    "# showing different groups \n",
    "gapminder_continent_pivot = gapminder_2007.pivot_table(values = 'gdpPercap', columns = 'continent', index = 'country')\n",
    "gapminder_continent_pivot.plot(kind = 'hist', alpha=0.5, bins = 20, title = 'GDP Per Capita by Continent')\n",
    "plt.show()"
   ]
  },
  {
   "cell_type": "markdown",
   "metadata": {},
   "source": [
    "### More on distribution: box plot \n",
    " - note: what is a [box plot](https://en.wikipedia.org/wiki/Box_plot)? "
   ]
  },
  {
   "cell_type": "code",
   "execution_count": null,
   "metadata": {
    "scrolled": true
   },
   "outputs": [],
   "source": [
    "gapminder_continent_pivot.plot(kind = 'box', title = 'GDP Per Capita by Continent')\n",
    "plt.show()"
   ]
  },
  {
   "cell_type": "markdown",
   "metadata": {},
   "source": [
    "### Showing the correlation: scatter plot "
   ]
  },
  {
   "cell_type": "code",
   "execution_count": null,
   "metadata": {},
   "outputs": [],
   "source": [
    "gapminder_2007.plot(kind = 'scatter', x = 'gdpPercap', y = 'lifeExp', title = 'Wealth vs. Health in 2007')\n",
    "plt.show()"
   ]
  },
  {
   "cell_type": "markdown",
   "metadata": {},
   "source": [
    "### Showing the contrast: bar chart"
   ]
  },
  {
   "cell_type": "markdown",
   "metadata": {},
   "source": [
    "showing the grouped sum for one variable."
   ]
  },
  {
   "cell_type": "code",
   "execution_count": null,
   "metadata": {
    "scrolled": true
   },
   "outputs": [],
   "source": [
    "summarized_df = gapminder[gapminder['year'] == 2007].groupby(by = 'continent')['pop'].sum()\n",
    "summarized_df"
   ]
  },
  {
   "cell_type": "markdown",
   "metadata": {},
   "source": [
    "`rot = 0`: Rotation for ticks"
   ]
  },
  {
   "cell_type": "code",
   "execution_count": null,
   "metadata": {},
   "outputs": [],
   "source": [
    "summarized_df.plot(kind = 'bar', rot = 30)\n",
    "plt.show()"
   ]
  },
  {
   "cell_type": "markdown",
   "metadata": {},
   "source": [
    "#### Horizontal Bar Plot"
   ]
  },
  {
   "cell_type": "code",
   "execution_count": null,
   "metadata": {},
   "outputs": [],
   "source": [
    "# showing the grouped means for multiple variables \n",
    "summarized_df = gapminder[gapminder['year'] == 2007].groupby(by = 'continent')[['lifeExp', 'gdpPercap']].mean()\n",
    "summarized_df"
   ]
  },
  {
   "cell_type": "markdown",
   "metadata": {},
   "source": [
    "`layout` = (# of rows, # of columns), specifies the layout of subplots. Here, we set 1 row and 2 columns."
   ]
  },
  {
   "cell_type": "code",
   "execution_count": null,
   "metadata": {
    "scrolled": true
   },
   "outputs": [],
   "source": [
    "summarized_df.plot(kind = 'barh', subplots = True, layout = (1, 2), sharex = False, sharey = True, legend = False)\n",
    "plt.show()"
   ]
  },
  {
   "cell_type": "markdown",
   "metadata": {
    "collapsed": true
   },
   "source": [
    "## Multidimensional data visualization\n",
    " - a.k.a. problem-driven data visualization and data-driven exploration"
   ]
  },
  {
   "cell_type": "markdown",
   "metadata": {
    "collapsed": true
   },
   "source": [
    "### Q1: Globally, what is the relationship between life expectancy and GDP per capita?\n",
    "    1. Hint: what about a scatter plot? \n",
    "    2. Hint: try this: https://pythonspot.com/matplotlib-scatterplot/"
   ]
  },
  {
   "cell_type": "code",
   "execution_count": null,
   "metadata": {},
   "outputs": [],
   "source": [
    "import matplotlib.pyplot as plt\n",
    "import numpy as np\n",
    "\n",
    "gapminder.plot(kind = 'scatter', x = 'gdpPercap', y = 'lifeExp', title = 'Wealth vs. Health')\n",
    "plt.show()"
   ]
  },
  {
   "cell_type": "markdown",
   "metadata": {},
   "source": [
    "### Will the relationship stipulated in Q1 differ across different continents?  "
   ]
  },
  {
   "cell_type": "code",
   "execution_count": null,
   "metadata": {
    "scrolled": true
   },
   "outputs": [],
   "source": [
    "continents = gapminder.groupby('continent').size()\n",
    "continents"
   ]
  },
  {
   "cell_type": "code",
   "execution_count": null,
   "metadata": {},
   "outputs": [],
   "source": [
    "continents.index"
   ]
  },
  {
   "cell_type": "code",
   "execution_count": null,
   "metadata": {},
   "outputs": [],
   "source": [
    "fig = plt.figure(figsize=(10,20)) #create a new figure \n",
    "fig.subplots_adjust(hspace=0.6)  # gaps between the figures \n",
    "n = 1 \n",
    "for con in continents.index:\n",
    "    ax = fig.add_subplot(5,1,n) \n",
    "    ax.set_title(con)\n",
    "    x = gapminder[gapminder['continent']== con]['gdpPercap']\n",
    "    y = gapminder[gapminder['continent']== con]['lifeExp']\n",
    "    ax.scatter(x,y,s=5) # s: marker size\n",
    "    ax.set_xlabel('gdpPercap',fontsize=12)\n",
    "    ax.set_ylabel('lifeExp',fontsize=12)\n",
    "    n = n+1\n",
    "plt.show()"
   ]
  },
  {
   "cell_type": "markdown",
   "metadata": {},
   "source": [
    "### Will the relationship stipulated in Q1 differ across different countries"
   ]
  },
  {
   "cell_type": "code",
   "execution_count": null,
   "metadata": {},
   "outputs": [],
   "source": [
    "countries = gapminder.groupby('country').size()\n",
    "print(countries.index)\n",
    "print('num of countries:',len(countries)) "
   ]
  },
  {
   "cell_type": "code",
   "execution_count": null,
   "metadata": {},
   "outputs": [],
   "source": [
    "fig = plt.figure(figsize=(20,80)) \n",
    "fig.subplots_adjust(hspace=0.5, wspace = 0.4) # gaps between the figures\n",
    "n = 1\n",
    "for coun in countries.index:\n",
    "    ax = fig.add_subplot(25,6,n) \n",
    "    x = gapminder[gapminder['country']== coun]['gdpPercap']\n",
    "    y = gapminder[gapminder['country']==coun]['lifeExp']\n",
    "    ax.scatter(x,y,s=5)\n",
    "    ax.set_xlabel('gdpPercap',fontsize=12)\n",
    "    ax.set_ylabel('lifeExp',fontsize=12)\n",
    "    ax.legend([coun],loc = 'upper right') \n",
    "    n = n+1\n",
    "\n",
    "plt.show()"
   ]
  },
  {
   "cell_type": "markdown",
   "metadata": {},
   "source": [
    "## Challenge: The myth of social change\n",
    "\n",
    "A term called “the third-wave of democracy” was once proposed (see Samuel P. Huntington). It argues that starting from 1974, there is a trend of “major surge of democracy in history” in the world. However, it has been always argued that whether “democracy” as a political belief or as a form of governance could actually bring social well-being (or actually, the progress of social change is driven by other factors). Putting any ideological arguments or opinions aside, let’s see how the data speaks to us. \n",
    "\n",
    "The considerations are: \n",
    "1. suppose the year of 1974 is treated as a boundary (a milestone cutting-off point), is there any difference of the social well-being before and after that year? \n",
    "2. If a general answer to 1. is “yes” (as the world is becoming healthier and richer), then which countries (or continents) benefit the most? (and which are the least?) \n",
    "    "
   ]
  },
  {
   "cell_type": "code",
   "execution_count": null,
   "metadata": {},
   "outputs": [],
   "source": [
    "gapminder.continent.value_counts()"
   ]
  },
  {
   "cell_type": "markdown",
   "metadata": {},
   "source": [
    "`plt.axvline` adds a vertical line across the axes."
   ]
  },
  {
   "cell_type": "code",
   "execution_count": null,
   "metadata": {},
   "outputs": [],
   "source": [
    "#The growth trend of life expectancy and gdp per capita in Different Continents\n",
    "for i in ('lifeExp','gdpPercap'):   \n",
    "    gapminder_all_pivot_l = gapminder.pivot_table(values = i, columns = 'continent', index = 'year')\n",
    "    gapminder_all_pivot_l.plot(title = i + 'in Different Continents') # line plot\n",
    "    plt.axvline(1974, color='r', linestyle='--', linewidth=1)\n",
    "\n",
    "plt.show()"
   ]
  },
  {
   "cell_type": "code",
   "execution_count": null,
   "metadata": {},
   "outputs": [],
   "source": [
    "len(countries.index)"
   ]
  },
  {
   "cell_type": "code",
   "execution_count": null,
   "metadata": {},
   "outputs": [],
   "source": [
    "fig = plt.figure(figsize=(20,80)) \n",
    "fig.subplots_adjust(hspace=0.5, wspace = 0.4) \n",
    "plt.title('Wealth Growth Trend in Different Countries',fontsize=15)\n",
    "n = 1\n",
    "for coun in countries.index:\n",
    "    ax = fig.add_subplot(25,6,n)\n",
    "    x = gapminder[gapminder['country']== coun]\n",
    "    gapminder_pivot_g = x.pivot_table(values = 'gdpPercap', columns = 'country', index = 'year')\n",
    "    ax.plot(gapminder_pivot_g)\n",
    "    ax.set_xlabel('year',fontsize=12)\n",
    "    ax.set_ylabel('gdpPercap',fontsize=12)\n",
    "    ax.legend([coun],loc = 'upper right') #title\n",
    "    plt.axvline(1974, color='r', linestyle='--', linewidth=1)\n",
    "    n = n+1\n",
    "\n",
    "plt.show()"
   ]
  },
  {
   "cell_type": "markdown",
   "metadata": {},
   "source": [
    "## Further readings: \n",
    "1. The Art of Effective Visualization of Multi-dimensional Data. Link: https://towardsdatascience.com/the-art-of-effective-visualization-of-multi-dimensional-data-6c7202990c57 (Chinese translation: https://mp.weixin.qq.com/s/mD732PqDtqYdFZSxZWtvvg)\n",
    "2. Seaborn gallery: https://seaborn.pydata.org/  and https://seaborn.pydata.org/examples/index.html \n",
    "3. More topics: https://jakevdp.github.io/PythonDataScienceHandbook/04.14-visualization-with-seaborn.html "
   ]
  },
  {
   "cell_type": "markdown",
   "metadata": {
    "collapsed": true
   },
   "source": [
    "## **Acknowledgement**\n",
    "\n",
    "The codes in this notebook is a modified version of Dr. Xinzhi Zhang notebook based on various sources, including the [official tutorial](http://pandas.pydata.org/pandas-docs/version/0.15/10min.html) and [tutorial 01](https://medium.com/datainpoint/%E5%BE%9E-pandas-%E9%96%8B%E5%A7%8B-python-%E8%88%87%E8%B3%87%E6%96%99%E7%A7%91%E5%AD%B8%E4%B9%8B%E6%97%85-8dee36796d4a)."
   ]
  },
  {
   "cell_type": "code",
   "execution_count": null,
   "metadata": {},
   "outputs": [],
   "source": []
  }
 ],
 "metadata": {
  "anaconda-cloud": {},
  "kernelspec": {
   "display_name": "Python 3",
   "language": "python",
   "name": "python3"
  },
  "language_info": {
   "codemirror_mode": {
    "name": "ipython",
    "version": 3
   },
   "file_extension": ".py",
   "mimetype": "text/x-python",
   "name": "python",
   "nbconvert_exporter": "python",
   "pygments_lexer": "ipython3",
   "version": "3.8.5"
  },
  "toc": {
   "nav_menu": {},
   "number_sections": true,
   "sideBar": true,
   "skip_h1_title": false,
   "title_cell": "Table of Contents",
   "title_sidebar": "Contents",
   "toc_cell": false,
   "toc_position": {},
   "toc_section_display": true,
   "toc_window_display": false
  }
 },
 "nbformat": 4,
 "nbformat_minor": 1
}
