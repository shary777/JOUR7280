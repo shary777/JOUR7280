{
 "cells": [
  {
   "cell_type": "markdown",
   "metadata": {},
   "source": [
    "# JOUR7280/COMM7780 Big Data Analytics for Media and Communication\n",
    "# Tutorial: Pandas Example"
   ]
  },
  {
   "cell_type": "code",
   "execution_count": null,
   "metadata": {},
   "outputs": [],
   "source": [
    "import pandas as pd\n",
    "import numpy as np"
   ]
  },
  {
   "cell_type": "code",
   "execution_count": null,
   "metadata": {},
   "outputs": [],
   "source": [
    "movie_df = pd.read_csv('../data/' + 'movie_metadata.csv')\n",
    "movie_df.head()"
   ]
  },
  {
   "cell_type": "markdown",
   "metadata": {},
   "source": [
    "**Example 1** Read the 'movie_metadata.csv' file. Tell:\n",
    "\n",
    "    a) how many tuples and fields(columns) the dataset has.\n",
    "    b) what are the columns"
   ]
  },
  {
   "cell_type": "code",
   "execution_count": null,
   "metadata": {
    "scrolled": false
   },
   "outputs": [],
   "source": [
    "movie_shape = movie_df.shape\n",
    "numTuples = movie_shape[0]\n",
    "numFields = movie_shape[1]\n",
    "print('{} tuples and {} columns \\n'.format(numTuples, numFields)) # {} is the placeholder\n",
    "\n",
    "movie_col_name = list(movie_df.columns)\n",
    "print(movie_col_name)"
   ]
  },
  {
   "cell_type": "code",
   "execution_count": null,
   "metadata": {},
   "outputs": [],
   "source": [
    "movie_df.columns"
   ]
  },
  {
   "cell_type": "markdown",
   "metadata": {},
   "source": [
    "## Handling missing values \n",
    "**Example 2** "
   ]
  },
  {
   "cell_type": "code",
   "execution_count": null,
   "metadata": {
    "scrolled": true
   },
   "outputs": [],
   "source": [
    "movie_df"
   ]
  },
  {
   "cell_type": "markdown",
   "metadata": {},
   "source": [
    "For example, in row 5039, the director_name is NaN. [`dropna`](https://pandas.pydata.org/pandas-docs/stable/reference/api/pandas.DataFrame.dropna.html) method will delete the rows with missing data."
   ]
  },
  {
   "cell_type": "markdown",
   "metadata": {},
   "source": [
    "Please go through the following process to handle missing values\n",
    "    \n",
    "    a) Find out the sum of missing values for each column\n",
    "    b) Drop all rows containing any missing value\n",
    "    \n",
    "Tell how many tuples are dropped. Explain whether it is a good way to handle missing value for the case? \n",
    "(please print out your answer)"
   ]
  },
  {
   "cell_type": "code",
   "execution_count": null,
   "metadata": {
    "scrolled": true
   },
   "outputs": [],
   "source": [
    "# sum up NAs\n",
    "print(movie_df.isna().sum())"
   ]
  },
  {
   "cell_type": "code",
   "execution_count": null,
   "metadata": {},
   "outputs": [],
   "source": [
    "# return a copy of cleaned df\n",
    "clean_movie_df = movie_df.dropna()\n",
    "\n",
    "num_dropped = numTuples - clean_movie_df.shape[0]\n",
    "\n",
    "print(num_dropped, 'tuples dropped.')"
   ]
  },
  {
   "cell_type": "markdown",
   "metadata": {},
   "source": [
    "This is not a good way to handle missing values since too much information gets lost."
   ]
  },
  {
   "cell_type": "markdown",
   "metadata": {},
   "source": [
    "**Example 3** Try the following methods to handle missing values inplace.\n",
    "\n",
    "    a) replace missing values in 'director_name'with 'unknown'\n",
    "    \n",
    "   The first argument of `fillna` is a `dictionary`, to indicate which value to use for specified column(s)."
   ]
  },
  {
   "cell_type": "code",
   "execution_count": null,
   "metadata": {
    "scrolled": true
   },
   "outputs": [],
   "source": [
    "# replace with unknown\n",
    "movie_df.fillna({'director_name': 'unknown'}, inplace=True)\n",
    "movie_df"
   ]
  },
  {
   "cell_type": "markdown",
   "metadata": {},
   "source": [
    "    b) use mean to fill in missing values in'gross' and 'budget'\n",
    "    c) use median to fill in missing values in 'num_critic_for_reviews'and 'num_user_for_reviews'\n",
    "    d) use mode to fill in missing values in 'country'\n",
    "    \n",
    "Recall from math: \n",
    "* The \"mean\" is the \"average\": you add up all the numbers and then divide by the number of numbers.\n",
    "* The \"median\" is the \"middle\" value in the list of numbers.\n",
    "* The \"mode\" is the value that occurs most often. If no number in the list is repeated, then there is no mode for the list."
   ]
  },
  {
   "cell_type": "code",
   "execution_count": null,
   "metadata": {},
   "outputs": [],
   "source": [
    "# replace with mean\n",
    "mean_budget = movie_df['budget'].mean()\n",
    "mean_gross = movie_df['gross'].mean()\n",
    "\n",
    "movie_df.fillna({'budget': mean_budget, 'gross': mean_gross}, inplace=True)\n",
    "\n",
    "# replace with median\n",
    "median_critic = movie_df['num_critic_for_reviews'].median()\n",
    "median_user = movie_df['num_user_for_reviews'].median()\n",
    "\n",
    "movie_df.fillna({'num_critic_for_reviews': median_critic,'num_user_for_reviews': median_user}, inplace=True)\n",
    "\n",
    "# replace with mode\n",
    "mode_country = movie_df['country'].mode()\n",
    "movie_df.fillna({'country': mode_country[0]}, inplace=True)"
   ]
  },
  {
   "cell_type": "markdown",
   "metadata": {},
   "source": [
    "    e) replace missing values in 'duration' with the last observation"
   ]
  },
  {
   "cell_type": "code",
   "execution_count": null,
   "metadata": {
    "scrolled": true
   },
   "outputs": [],
   "source": [
    "# replace with the last observation\n",
    "movie_df['duration'].fillna(method='ffill', inplace=True)"
   ]
  },
  {
   "cell_type": "markdown",
   "metadata": {},
   "source": [
    "`ffill`: propagate last valid observation forward\n",
    "\n",
    "See more about `fillna` [here](https://pandas.pydata.org/pandas-docs/stable/reference/api/pandas.DataFrame.fillna.html)"
   ]
  },
  {
   "cell_type": "markdown",
   "metadata": {},
   "source": [
    "**Example 4** There are some duplicated rows in the dataset.\n",
    "\n",
    "    a) tell how many duplicated rows are in the dataset\n",
    "    \n",
    "   `dataframe.duplicated()` returns boolean Series denoting duplicate rows."
   ]
  },
  {
   "cell_type": "code",
   "execution_count": null,
   "metadata": {
    "scrolled": true
   },
   "outputs": [],
   "source": [
    "movie_df.duplicated()"
   ]
  },
  {
   "cell_type": "code",
   "execution_count": null,
   "metadata": {},
   "outputs": [],
   "source": [
    "# number of duplications\n",
    "duplicate_df = movie_df[movie_df.duplicated()]\n",
    "print('# of duplicated rows:', duplicate_df.shape[0])"
   ]
  },
  {
   "cell_type": "markdown",
   "metadata": {},
   "source": [
    "    b) remove duplicates\n",
    "    c) Tell how many rows left after removing duplicates"
   ]
  },
  {
   "cell_type": "code",
   "execution_count": null,
   "metadata": {},
   "outputs": [],
   "source": [
    "# remove duplicates\n",
    "movie_df.drop_duplicates(inplace=True)\n",
    "\n",
    "# how many left?\n",
    "print(movie_df.shape[0], 'rows left after removing duplicates')"
   ]
  },
  {
   "cell_type": "markdown",
   "metadata": {},
   "source": [
    "**Example 5** Create a new column named 'imdb_label'. The lable is given based on the following criteria:\n",
    "\n",
    "    a) imdb_score in (0, 4], label 'bad'\n",
    "    b) imdb_score in (4, 7], label 'moderate'\n",
    "    c) imdb_score in (7, 10], label 'good'\n",
    "You should consider **data binning** to finish the task.\n",
    "\n",
    "`pd.cut` method bins values into discrete intervals.\n",
    "- `labels`: Specifies the labels for the returned bins. \n",
    "- `bins`: The criteria to bin by."
   ]
  },
  {
   "cell_type": "code",
   "execution_count": null,
   "metadata": {
    "scrolled": true
   },
   "outputs": [],
   "source": [
    "# define lables and categories\n",
    "labels_list = ['bad', 'moderate', 'good']\n",
    "category = [0., 4., 7., 10.]\n",
    "\n",
    "# create the news column\n",
    "movie_df['imdb_label'] = pd.cut(movie_df['imdb_score'], labels=labels_list, bins=category)\n",
    "\n",
    "movie_df.head()"
   ]
  },
  {
   "cell_type": "markdown",
   "metadata": {},
   "source": [
    "**Example 6** Try to get the following info from the data:\n",
    "\n",
    "    a) basic statistical characteristics of each numerical feature"
   ]
  },
  {
   "cell_type": "code",
   "execution_count": null,
   "metadata": {
    "scrolled": true
   },
   "outputs": [],
   "source": [
    "# numerical summary\n",
    "movie_df.describe()"
   ]
  },
  {
   "cell_type": "markdown",
   "metadata": {},
   "source": [
    "By default, the result of `dataframe.describe()` will include all numeric columns."
   ]
  },
  {
   "cell_type": "markdown",
   "metadata": {},
   "source": [
    "    b) basic statistical characteristics of each non-numerical feature"
   ]
  },
  {
   "cell_type": "code",
   "execution_count": null,
   "metadata": {
    "scrolled": true
   },
   "outputs": [],
   "source": [
    "# non-numerical summary\n",
    "movie_df.describe(include=['object', 'category'])"
   ]
  },
  {
   "cell_type": "markdown",
   "metadata": {},
   "source": [
    "By setting parameter `include=['object', 'category']`, it limits the result to object and categorical columns."
   ]
  },
  {
   "cell_type": "markdown",
   "metadata": {},
   "source": [
    "    c) the distributions(normalized) of imdb_label"
   ]
  },
  {
   "cell_type": "code",
   "execution_count": null,
   "metadata": {
    "scrolled": true
   },
   "outputs": [],
   "source": [
    "# distribution\n",
    "movie_df['imdb_label'].value_counts(normalize = True)"
   ]
  },
  {
   "cell_type": "markdown",
   "metadata": {},
   "source": [
    "`value_counts` return a Series containing counts of unique values.\n",
    "- normalize = True: the object returned will contain the relative frequencies of the unique values."
   ]
  },
  {
   "cell_type": "markdown",
   "metadata": {},
   "source": [
    "**Example 7** Sort the dataset in following two ways:\n",
    "\n",
    "    a) by budget in ascending order\n",
    "    b) by budget and imdb_score in descending order   "
   ]
  },
  {
   "cell_type": "code",
   "execution_count": null,
   "metadata": {},
   "outputs": [],
   "source": [
    "# budget in ascending order\n",
    "movie_df.sort_values(by='budget').head()"
   ]
  },
  {
   "cell_type": "code",
   "execution_count": null,
   "metadata": {},
   "outputs": [],
   "source": [
    "# budget and imdb_score in descending order\n",
    "movie_df.sort_values(by=['imdb_score', 'budget'], ascending=[False, False]).head()"
   ]
  },
  {
   "cell_type": "markdown",
   "metadata": {},
   "source": [
    "**Example 8** Practice the following steps:\n",
    "\n",
    "    a) Group the dataset by 'imdb_label'\n",
    "    b) Select 'gross', 'budget' and 'imdb_score' to display\n",
    "    c) Apply aggregation functions to the selected columns, including mean, std, min, max\n",
    "    "
   ]
  },
  {
   "cell_type": "code",
   "execution_count": null,
   "metadata": {
    "scrolled": false
   },
   "outputs": [],
   "source": [
    "# define columns to show\n",
    "columns_to_show = ['gross', 'budget', 'imdb_score']\n",
    "\n",
    "# performing grouping and apply functions to groups\n",
    "movie_df.groupby(['imdb_label'])[columns_to_show].agg([np.mean, np.std, np.min, np.max])"
   ]
  },
  {
   "cell_type": "code",
   "execution_count": null,
   "metadata": {},
   "outputs": [],
   "source": [
    "movie_df.groupby(['imdb_label'])"
   ]
  },
  {
   "cell_type": "markdown",
   "metadata": {},
   "source": [
    "**Example 9** Split the 'imdb_label' column into three numerical columns: \n",
    "\n",
    "    a)'label_bad'\n",
    "    b)'label_morderate'\n",
    "    c)'label_good'. \n",
    "Use 1 to indicated the correct label and 0 inversely. Write this new dataframe to 'movie_metadata_new.csv'"
   ]
  },
  {
   "cell_type": "markdown",
   "metadata": {},
   "source": [
    "We first convert categorical variables ('imdb_label' column) into dummy/indicator variables. A **dummy variable** (aka, an indicator variable) is a numeric variable that represents categorical data, i.e., takes only the value 0 or 1 to indicate the absence or presence."
   ]
  },
  {
   "cell_type": "code",
   "execution_count": null,
   "metadata": {
    "scrolled": false
   },
   "outputs": [],
   "source": [
    "# convert categorical variables into dummy/indicator variables\n",
    "dfDummies = pd.get_dummies(movie_df['imdb_label'], prefix='label')\n",
    "dfDummies.head()"
   ]
  },
  {
   "cell_type": "markdown",
   "metadata": {},
   "source": [
    "`pd.get_dummies` converts categorical variable into dummy/indicator variables.\n",
    "- prefix='label': append word 'label' to column names.\n",
    "\n",
    "Then we concatenate `dfDummies` with the original dataframe and save to file."
   ]
  },
  {
   "cell_type": "code",
   "execution_count": null,
   "metadata": {},
   "outputs": [],
   "source": [
    "# concatenate with the original dataframe\n",
    "encoded_movie_df = pd.concat([movie_df, dfDummies], axis=1)\n",
    "\n",
    "# write to new csv file\n",
    "encoded_movie_df.to_csv('../data/' + 'movie_metadata_new.csv')\n",
    "\n",
    "encoded_movie_df.head()"
   ]
  }
 ],
 "metadata": {
  "kernelspec": {
   "display_name": "Python 3",
   "language": "python",
   "name": "python3"
  },
  "language_info": {
   "codemirror_mode": {
    "name": "ipython",
    "version": 3
   },
   "file_extension": ".py",
   "mimetype": "text/x-python",
   "name": "python",
   "nbconvert_exporter": "python",
   "pygments_lexer": "ipython3",
   "version": "3.8.5"
  }
 },
 "nbformat": 4,
 "nbformat_minor": 2
}
